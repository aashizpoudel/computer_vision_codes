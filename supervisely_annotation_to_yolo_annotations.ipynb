{
 "cells": [
  {
   "cell_type": "code",
   "execution_count": null,
   "metadata": {},
   "outputs": [],
   "source": [
    "import numpy as np\n",
    "import os\n",
    "source_folder = \"/content/drive/MyDrive/Bounding_Box_annotation/\" #input folder\n",
    "txt_folder = \"/content/drive/MyDrive/YOLOV7_Annotation/\" #where to store the yolo annotations file\n",
    "classes  = ['leaf','plant','tree']  # name of classes \n",
    "def supervisely_to_yolo(source_folder,txt_folder,classes):\n",
    "  os.makedirs(txt_folder,exist_ok=True)\n",
    "  for file_name in os.listdir(source_folder):\n",
    "    if \".json\" not in file_name:\n",
    "      print(\"Skipped\",file_name)\n",
    "      continue\n",
    "    print(\"Working\",file_name)\n",
    "    txt_name = file_name.replace(\".json\",\".txt\")\n",
    "    file_path = os.path.join(source_folder,file_name)\n",
    "    txt_path = os.path.join(txt_folder,txt_name)\n",
    "    annotation = json.load(open(file_path,\"r\"))\n",
    "    fwriter = open(txt_path,\"w\")\n",
    "    height = annotation['size']['height']\n",
    "    width = annotation['size']['width']\n",
    "\n",
    "    for i in annotation['objects']:\n",
    "      class_id = classes.index(i['classTitle'])\n",
    "      points = np.array(i['points']['exterior'],dtype='int')\n",
    "      (x1,y1),(x2,y2) = points[0,:],points[1,:]\n",
    "      cx,cy = x1+ 0.5*(x2-x1),y1 + 0.5*(y2-y1) \n",
    "      w,h = x2-x1, y2 - y1 \n",
    "      cx,cy,w,h = cx/width,cy/height,w/width,h/height\n",
    "      single_line = f'{class_id} {\" \".join([ f\"{i:.9f}\" for i in [cx,cy,w,h]])}'\n",
    "      fwriter.write(single_line+\"\\r\\n\")\n",
    "    fwriter.close()\n",
    "  print(\"Done\")\n",
    "supervisely_to_yolo(source_folder,txt_folder,classes)"
   ]
  }
 ],
 "metadata": {
  "kernelspec": {
   "display_name": "Python 3",
   "language": "python",
   "name": "python3"
  },
  "language_info": {
   "name": "python",
   "version": "3.10.4"
  },
  "orig_nbformat": 4
 },
 "nbformat": 4,
 "nbformat_minor": 2
}
